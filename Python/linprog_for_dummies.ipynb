{
 "cells": [
  {
   "cell_type": "markdown",
   "metadata": {
    "collapsed": true
   },
   "source": [
    "# A quick readme for <tt>linprog</tt> module"
   ]
  },
  {
   "cell_type": "markdown",
   "metadata": {},
   "source": [
    "This is a very short readme containing elementary usage of local module <tt>linprog</tt>. The module <tt>linprog</tt> is an implementation of the simplex algorithm for linear programs having rational coefficients. The point is to avoid having to deal with floats and subsequent issues related to testing feasibility. We made the choice of sticking to the point of view presented in related course. \n",
    "\n",
    "**This implementation is aimed at students following a first course on linear programming, it's not advised to use it professionally as it is certainly not optimized.** "
   ]
  },
  {
   "cell_type": "code",
   "execution_count": 1,
   "metadata": {
    "collapsed": true
   },
   "outputs": [],
   "source": [
    "import numpy as np\n",
    "import fractions as frac"
   ]
  },
  {
   "cell_type": "markdown",
   "metadata": {
    "collapsed": true
   },
   "source": [
    "If your python is well configured, this notebook sees <tt>linprog</tt>. One can import it simply typing  "
   ]
  },
  {
   "cell_type": "code",
   "execution_count": 2,
   "metadata": {},
   "outputs": [],
   "source": [
    "from linprog import linprogs as lp, simplex as spx"
   ]
  },
  {
   "cell_type": "markdown",
   "metadata": {},
   "source": [
    "Linear program constructor takes in three parameters as <tt>numpy</tt> arrays, all upcoming definitions need the linear program to be in *standard* form: \n",
    "- Second is the set of constants appearing in the program's constraints.\n",
    "- First is the matrix corresponding to non-constant terms.\n",
    "- Lastly the objectve function. \n",
    "The constant term of the objective is by default at zero, one can specify it as fourth argument if needed.\n",
    "\n",
    "The following entries correspond to a linear program having feasible basic solution. "
   ]
  },
  {
   "cell_type": "code",
   "execution_count": 3,
   "metadata": {},
   "outputs": [],
   "source": [
    "a = np.array([[frac.Fraction(2, 1), frac.Fraction(-1, 1), frac.Fraction(2, 1)],\n",
    "              [frac.Fraction(2, 1), frac.Fraction(-4, 1), frac.Fraction(0, 1)],\n",
    "              [frac.Fraction(-4, 1), frac.Fraction(3, 1), frac.Fraction(8, 1)]])\n",
    "b = np.array([[frac.Fraction(7, 1)], [frac.Fraction(12, 1)], [frac.Fraction(10, 1)]])\n",
    "c = np.array([frac.Fraction(2, 1), frac.Fraction(1, 1) , frac.Fraction(1, 1)])"
   ]
  },
  {
   "cell_type": "code",
   "execution_count": 4,
   "metadata": {},
   "outputs": [
    {
     "data": {
      "text/plain": [
       "(3, 3)"
      ]
     },
     "execution_count": 4,
     "metadata": {},
     "output_type": "execute_result"
    }
   ],
   "source": [
    "a.shape"
   ]
  },
  {
   "cell_type": "code",
   "execution_count": 5,
   "metadata": {},
   "outputs": [
    {
     "data": {
      "text/plain": [
       "(3, 1)"
      ]
     },
     "execution_count": 5,
     "metadata": {},
     "output_type": "execute_result"
    }
   ],
   "source": [
    "b.shape"
   ]
  },
  {
   "cell_type": "code",
   "execution_count": 6,
   "metadata": {},
   "outputs": [
    {
     "data": {
      "text/plain": [
       "(3,)"
      ]
     },
     "execution_count": 6,
     "metadata": {},
     "output_type": "execute_result"
    }
   ],
   "source": [
    "c.shape"
   ]
  },
  {
   "cell_type": "code",
   "execution_count": 7,
   "metadata": {
    "collapsed": true
   },
   "outputs": [],
   "source": [
    "lProgram = lp.LinearProgram(a, b, c)"
   ]
  },
  {
   "cell_type": "markdown",
   "metadata": {},
   "source": [
    "<tt>lProgram</tt> has three attributes:\n",
    "\n",
    "- <tt>basic</tt> : it corresponds to the basic set;\n",
    "- <tt>shape</tt> : it correspond to the couple <tt>(number of lines, number of columns)</tt> of the linear program in *slack* form;\n",
    "- <tt>table</tt> : it's a matrix having representing *minus* the objective function in first row, the set of constants as last column with objective value at head and lastly the programs matrix from second row on and till the column before the last. This is commonly called a **tableau** in linear programming jargon.\n",
    "\n",
    "You are free to play with each one of them"
   ]
  },
  {
   "cell_type": "code",
   "execution_count": 8,
   "metadata": {},
   "outputs": [
    {
     "data": {
      "text/plain": [
       "[3, 4, 5]"
      ]
     },
     "execution_count": 8,
     "metadata": {},
     "output_type": "execute_result"
    }
   ],
   "source": [
    "lProgram.basic"
   ]
  },
  {
   "cell_type": "code",
   "execution_count": 9,
   "metadata": {},
   "outputs": [
    {
     "data": {
      "text/plain": [
       "(3, 6)"
      ]
     },
     "execution_count": 9,
     "metadata": {},
     "output_type": "execute_result"
    }
   ],
   "source": [
    "lProgram.shape"
   ]
  },
  {
   "cell_type": "markdown",
   "metadata": {},
   "source": [
    "In order to have a closely to nice print of lProgram <tt>linprogs</tt> contains a quick formatting method."
   ]
  },
  {
   "cell_type": "code",
   "execution_count": 10,
   "metadata": {},
   "outputs": [
    {
     "name": "stdout",
     "output_type": "stream",
     "text": [
      "       -2      -1      -1       0       0       0          0  \n",
      "\n",
      "3 |     2      -1       2       1       0       0          7  \n",
      "4 |     2      -4       0       0       1       0         12  \n",
      "5 |    -4       3       8       0       0       1         10  \n",
      "\n"
     ]
    }
   ],
   "source": [
    "print(lProgram)"
   ]
  },
  {
   "cell_type": "markdown",
   "metadata": {},
   "source": [
    "On the let hand one sees the index in the basic set corresponding to each line. \n",
    "\n",
    "Now the **class** LinearProgram has a number of methods: <tt>has_feasible_basic</tt>, <tt>basic_solution</tt>, <tt>pivot</tt> and <tt>dual</tt>. As you can imagine, <tt>pivot</tt> takes in a couple corresponding to entering and leaving indices of the linear program, they are respectively composed of an index of column (starting at <tt>0</tt>) and one of row (also starting at <tt>0</tt> at the first row of the **matrix** of constraints). It is called within the <tt>simplex</tt> algorithm.\n",
    "\n",
    "Here is an example of using the first two methods.    "
   ]
  },
  {
   "cell_type": "code",
   "execution_count": 11,
   "metadata": {},
   "outputs": [
    {
     "data": {
      "text/plain": [
       "True"
      ]
     },
     "execution_count": 11,
     "metadata": {},
     "output_type": "execute_result"
    }
   ],
   "source": [
    "lProgram.has_feasible_basic()"
   ]
  },
  {
   "cell_type": "code",
   "execution_count": 12,
   "metadata": {},
   "outputs": [
    {
     "data": {
      "text/plain": [
       "array([0, 0, 0, Fraction(7, 1), Fraction(12, 1), Fraction(10, 1)], dtype=object)"
      ]
     },
     "execution_count": 12,
     "metadata": {},
     "output_type": "execute_result"
    }
   ],
   "source": [
    "lProgram.basic_solution()"
   ]
  },
  {
   "cell_type": "markdown",
   "metadata": {},
   "source": [
    "To build an instance of the simplex algorithm here is the thing to do:"
   ]
  },
  {
   "cell_type": "code",
   "execution_count": 13,
   "metadata": {
    "collapsed": true
   },
   "outputs": [],
   "source": [
    "simplex = spx.Simplex()"
   ]
  },
  {
   "cell_type": "markdown",
   "metadata": {},
   "source": [
    "There are two optional parameters, <tt>leaving_index</tt> and <tt>entering_index</tt>. Both correspond to functions respectively computing leaving and entering variables. By default they correspond to first maximal choice for the entering one and first minimal choice for the leaving one. \n",
    "\n",
    "Instances of <tt>Simplex</tt> **class** are *callable* and take in this case an extra parameter (by default set at <tt>100</tt>) for the recursion limit. "
   ]
  },
  {
   "cell_type": "code",
   "execution_count": 14,
   "metadata": {},
   "outputs": [
    {
     "name": "stdout",
     "output_type": "stream",
     "text": [
      " ### Checking feasibility of linear program\n",
      "\n",
      "       -2      -1      -1       0       0       0          0  \n",
      "\n",
      "3 |     2      -1       2       1       0       0          7  \n",
      "4 |     2      -4       0       0       1       0         12  \n",
      "5 |    -4       3       8       0       0       1         10  \n",
      "\n",
      " ### Input linear program has feasible basic solution\n",
      "\n",
      " ### Getting back to linear program equivalent to input with feasible basic solution\n",
      "\n",
      "Basic solution = (31/2, 24, 0, 0, 77, 0) with objective value = 55.\n",
      "\n"
     ]
    },
    {
     "data": {
      "text/plain": [
       "(array([Fraction(31, 2), Fraction(24, 1), 0, 0, Fraction(77, 1), 0], dtype=object),\n",
       " Fraction(55, 1))"
      ]
     },
     "execution_count": 14,
     "metadata": {},
     "output_type": "execute_result"
    }
   ],
   "source": [
    "simplex(lProgram)"
   ]
  },
  {
   "cell_type": "markdown",
   "metadata": {},
   "source": [
    "Here is a last example in the case of linear program not having a feasible basic solution. It is the example we've started with during the course on *voters*. "
   ]
  },
  {
   "cell_type": "code",
   "execution_count": 31,
   "metadata": {},
   "outputs": [],
   "source": [
    "A = np.array([[frac.Fraction(2, 1), frac.Fraction(-8, 1), frac.Fraction(0, 1), frac.Fraction(-10, 1)],\n",
    "              [frac.Fraction(-5, 1), frac.Fraction(-2, 1), frac.Fraction(0, 1), frac.Fraction(0, 1)],\n",
    "              [frac.Fraction(-3, 1), frac.Fraction(5, 1), frac.Fraction(-10, 1), frac.Fraction(2, 1)]])\n",
    "B = np.array([[frac.Fraction(-50, 1)], [frac.Fraction(-100, 1)], [frac.Fraction(-25, 1)]])\n",
    "C = np.array([frac.Fraction(-1, 1), frac.Fraction(-1, 1) , frac.Fraction(-1, 1), frac.Fraction(-1, 1)])"
   ]
  },
  {
   "cell_type": "code",
   "execution_count": 32,
   "metadata": {},
   "outputs": [],
   "source": [
    "mProgram = lp.LinearProgram(A, B, C)"
   ]
  },
  {
   "cell_type": "code",
   "execution_count": 33,
   "metadata": {},
   "outputs": [
    {
     "name": "stdout",
     "output_type": "stream",
     "text": [
      "        1       1       1       1       0       0       0          0  \n",
      "\n",
      "4 |     2      -8       0     -10       1       0       0        -50  \n",
      "5 |    -5      -2       0       0       0       1       0       -100  \n",
      "6 |    -3       5     -10       2       0       0       1        -25  \n",
      "\n"
     ]
    }
   ],
   "source": [
    "print(mProgram)"
   ]
  },
  {
   "cell_type": "code",
   "execution_count": 34,
   "metadata": {},
   "outputs": [
    {
     "data": {
      "text/plain": [
       "array([0, 0, 0, 0, Fraction(-50, 1), Fraction(-100, 1), Fraction(-25, 1)], dtype=object)"
      ]
     },
     "execution_count": 34,
     "metadata": {},
     "output_type": "execute_result"
    }
   ],
   "source": [
    "mProgram.basic_solution()"
   ]
  },
  {
   "cell_type": "code",
   "execution_count": 35,
   "metadata": {},
   "outputs": [
    {
     "name": "stdout",
     "output_type": "stream",
     "text": [
      " ### Checking feasibility of linear program\n",
      "\n",
      "        1       1       1       1       0       0       0          0  \n",
      "\n",
      "4 |     2      -8       0     -10       1       0       0        -50  \n",
      "5 |    -5      -2       0       0       0       1       0       -100  \n",
      "6 |    -3       5     -10       2       0       0       1        -25  \n",
      "\n",
      " ### Basic solution is not feasible: using auxiliary linear program in next step\n",
      "\n",
      "Basic solution = (0, 20, 0, 0, 9, 0, 0, 17) with objective value = 0.\n",
      "\n",
      " ### Input linear program is thus feasible\n",
      "\n",
      " ### Getting back to linear program equivalent to input with feasible basic solution\n",
      "\n",
      "Basic solution = (2050/111, 425/111, 0, 625/111, 0, 0, 0) with objective value = 3338/111.\n",
      "\n"
     ]
    },
    {
     "data": {
      "text/plain": [
       "(array([Fraction(2050, 111), Fraction(425, 111), 0, Fraction(625, 111), 0,\n",
       "        0, 0], dtype=object), Fraction(3338, 111))"
      ]
     },
     "execution_count": 35,
     "metadata": {},
     "output_type": "execute_result"
    }
   ],
   "source": [
    "simplex(mProgram)"
   ]
  },
  {
   "cell_type": "code",
   "execution_count": 36,
   "metadata": {},
   "outputs": [
    {
     "data": {
      "text/plain": [
       "30.07207207207207"
      ]
     },
     "execution_count": 36,
     "metadata": {},
     "output_type": "execute_result"
    }
   ],
   "source": [
    "float(frac.Fraction(3338, 111))"
   ]
  },
  {
   "cell_type": "markdown",
   "metadata": {
    "collapsed": true
   },
   "source": [
    "It would have been hard to guess. Those who managed to find that <tt>27</tt> corresponded to a feasible solution were the closest. Know that <tt>29</tt> also corresponds to a feasible solution. "
   ]
  }
 ],
 "metadata": {
  "kernelspec": {
   "display_name": "Python 3",
   "language": "python",
   "name": "python3"
  },
  "language_info": {
   "codemirror_mode": {
    "name": "ipython",
    "version": 3
   },
   "file_extension": ".py",
   "mimetype": "text/x-python",
   "name": "python",
   "nbconvert_exporter": "python",
   "pygments_lexer": "ipython3",
   "version": "3.5.2"
  }
 },
 "nbformat": 4,
 "nbformat_minor": 1
}
